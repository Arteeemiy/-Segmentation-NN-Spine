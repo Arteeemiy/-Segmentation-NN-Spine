{
  "nbformat": 4,
  "nbformat_minor": 0,
  "metadata": {
    "colab": {
      "provenance": [],
      "gpuType": "T4",
      "authorship_tag": "ABX9TyPGVkim5blCF93NXuaVU3FF",
      "include_colab_link": true
    },
    "kernelspec": {
      "name": "python3",
      "display_name": "Python 3"
    },
    "language_info": {
      "name": "python"
    },
    "accelerator": "GPU"
  },
  "cells": [
    {
      "cell_type": "markdown",
      "metadata": {
        "id": "view-in-github",
        "colab_type": "text"
      },
      "source": [
        "<a href=\"https://colab.research.google.com/github/Arteeemiy/-Segmentation-NN-Spine/blob/main/Segmentation_NN.ipynb\" target=\"_parent\"><img src=\"https://colab.research.google.com/assets/colab-badge.svg\" alt=\"Open In Colab\"/></a>"
      ]
    },
    {
      "cell_type": "code",
      "execution_count": null,
      "metadata": {
        "id": "vz5S-aSCG4Ss"
      },
      "outputs": [],
      "source": [
        "import torch\n",
        "import numpy as np\n",
        "import torchvision\n",
        "import os\n",
        "from PIL import Image\n",
        "import matplotlib.pyplot as plt\n",
        "import matplotlib\n",
        "import torch.nn.functional as F\n",
        "from torch import nn\n",
        "import matplotlib.patches as mpatches\n",
        "from torchvision import transforms, models\n",
        "from torch.utils.data import Dataset, DataLoader\n",
        "DEVICE = torch.device('cuda') if torch.cuda.is_available() else torch.device('cpu')"
      ]
    },
    {
      "cell_type": "code",
      "source": [
        "!kaggle datasets download -d \"newra008/chest-segmentation-image\""
      ],
      "metadata": {
        "colab": {
          "base_uri": "https://localhost:8080/"
        },
        "id": "vf0O79QGMTP7",
        "outputId": "30960e5b-8009-4396-e98c-29a51cd7472a"
      },
      "execution_count": null,
      "outputs": [
        {
          "output_type": "stream",
          "name": "stdout",
          "text": [
            "Dataset URL: https://www.kaggle.com/datasets/newra008/chest-segmentation-image\n",
            "License(s): CC0-1.0\n",
            "Downloading chest-segmentation-image.zip to /content\n",
            " 99% 1.13G/1.15G [00:11<00:00, 110MB/s]\n",
            "100% 1.15G/1.15G [00:11<00:00, 104MB/s]\n"
          ]
        }
      ]
    },
    {
      "cell_type": "code",
      "source": [
        "%%capture\n",
        "!unzip chest-segmentation-image.zip"
      ],
      "metadata": {
        "id": "vqOvJvbOMs46"
      },
      "execution_count": null,
      "outputs": []
    },
    {
      "cell_type": "code",
      "source": [
        "!rm chest-segmentation-image.zip"
      ],
      "metadata": {
        "id": "EJboWmXVMv1_"
      },
      "execution_count": null,
      "outputs": []
    },
    {
      "cell_type": "code",
      "source": [
        "class SegmentationDataset(Dataset):\n",
        "  def __init__(self, image_dir, mask_dir, transform=None):\n",
        "    self.image_dir = image_dir\n",
        "    self.mask_dir = mask_dir\n",
        "    self.transform = transform\n",
        "    self.images = os.listdir(image_dir)\n",
        "    self.masks = os.listdir(mask_dir)\n",
        "\n",
        "  def __len__(self):\n",
        "    return len(self.images)\n",
        "\n",
        "  def __getitem__(self, idx):\n",
        "    img_path = os.path.join(self.image_dir, self.images[idx])\n",
        "    mask_path = os.path.join(self.mask_dir, self.masks[idx])\n",
        "    image = Image.open(img_path).convert(\"RGB\")\n",
        "    mask = Image.open(mask_path).convert(\"L\")\n",
        "\n",
        "    if self.transform:\n",
        "      image = self.transform(image)\n",
        "      mask = self.transform(mask)\n",
        "\n",
        "    return image, mask"
      ],
      "metadata": {
        "id": "Bem0z91IOLeX"
      },
      "execution_count": null,
      "outputs": []
    },
    {
      "cell_type": "code",
      "source": [
        "transform = transforms.Compose([\n",
        "    transforms.Resize((256, 256)),\n",
        "    transforms.ToTensor(),\n",
        "])\n",
        "\n",
        "train_image_dir = '/content/image'\n",
        "train_mask_dir = '/content/mask'\n",
        "test_image_dir = '/content/test_image'\n",
        "test_mask_dir = '/content/test_mask'\n",
        "train_dataset = SegmentationDataset(train_image_dir, train_mask_dir, transform=transform)\n",
        "test_dataset = SegmentationDataset(test_image_dir, test_mask_dir, transform=transform)\n",
        "\n",
        "train_dataloader = DataLoader(train_dataset, batch_size=4, shuffle=True)\n",
        "test_dataloader = DataLoader(test_dataset, batch_size=4, shuffle=False)"
      ],
      "metadata": {
        "id": "Snok8CWiR3Jp"
      },
      "execution_count": null,
      "outputs": []
    },
    {
      "cell_type": "code",
      "source": [
        "class UNetConvBlock(nn.Module):\n",
        "    def __init__(self, in_channels, out_channels):\n",
        "        super(UNetConvBlock, self).__init__()\n",
        "        self.double_conv = nn.Sequential(\n",
        "            nn.Conv2d(in_channels, out_channels, kernel_size=3, padding=1),\n",
        "            nn.BatchNorm2d(out_channels),\n",
        "            nn.ReLU(inplace=True),\n",
        "            nn.Conv2d(out_channels, out_channels, kernel_size=3, padding=1),\n",
        "            nn.BatchNorm2d(out_channels),\n",
        "            nn.ReLU(inplace=True)\n",
        "        )\n",
        "\n",
        "    def forward(self, x):\n",
        "        return self.double_conv(x)\n",
        "\n",
        "class UNetUpBlock(nn.Module):\n",
        "    def __init__(self, in_channels, out_channels):\n",
        "        super(UNetUpBlock, self).__init__()\n",
        "        self.up = nn.ConvTranspose2d(in_channels, out_channels, kernel_size=2, stride=2)\n",
        "        self.conv = UNetConvBlock(in_channels, out_channels)\n",
        "\n",
        "    def forward(self, x1, x2):\n",
        "        x1 = self.up(x1)\n",
        "        diffY = x2.size()[2] - x1.size()[2]\n",
        "        diffX = x2.size()[3] - x1.size()[3]\n",
        "        x1 = F.pad(x1, [diffX // 2, diffX - diffX // 2, diffY // 2, diffY - diffY // 2])\n",
        "        x = torch.cat([x2, x1], dim=1)\n",
        "        return self.conv(x)\n",
        "\n",
        "class UNet(nn.Module):\n",
        "    def __init__(self, in_channels, out_channels):\n",
        "        super(UNet, self).__init__()\n",
        "        self.in_conv = UNetConvBlock(in_channels, 64)\n",
        "        self.down1 = UNetConvBlock(64, 128)\n",
        "        self.down2 = UNetConvBlock(128, 256)\n",
        "        self.down3 = UNetConvBlock(256, 512)\n",
        "        self.down4 = UNetConvBlock(512, 1024)\n",
        "        self.up1 = UNetUpBlock(1024, 512)\n",
        "        self.up2 = UNetUpBlock(512, 256)\n",
        "        self.up3 = UNetUpBlock(256, 128)\n",
        "        self.up4 = UNetUpBlock(128, 64)\n",
        "        self.out_conv = nn.Conv2d(64, out_channels, kernel_size=1)\n",
        "\n",
        "    def forward(self, x):\n",
        "        x1 = self.in_conv(x)\n",
        "        x2 = self.down1(F.max_pool2d(x1, 2))\n",
        "        x3 = self.down2(F.max_pool2d(x2, 2))\n",
        "        x4 = self.down3(F.max_pool2d(x3, 2))\n",
        "        x5 = self.down4(F.max_pool2d(x4, 2))\n",
        "        x = self.up1(x5, x4)\n",
        "        x = self.up2(x, x3)\n",
        "        x = self.up3(x, x2)\n",
        "        x = self.up4(x, x1)\n",
        "        x = self.out_conv(x)\n",
        "        return x"
      ],
      "metadata": {
        "id": "4kSCZuOcS-zm"
      },
      "execution_count": null,
      "outputs": []
    },
    {
      "cell_type": "code",
      "source": [
        "model = UNet(in_channels=3, out_channels=1)\n",
        "criterion = nn.BCEWithLogitsLoss()\n",
        "optimizer = torch.optim.Adam(model.parameters(), lr=0.001)\n",
        "\n",
        "def train(model, train_dataloader, criterion, optimizer, device):\n",
        "    model.train()\n",
        "    running_loss = 0.0\n",
        "    for images, masks in train_dataloader:\n",
        "        images, masks = images.to(device), masks.to(device)\n",
        "        optimizer.zero_grad()\n",
        "        outputs = model(images)\n",
        "        loss = criterion(outputs, masks)\n",
        "        loss.backward()\n",
        "        optimizer.step()\n",
        "        running_loss += loss.item()\n",
        "\n",
        "    epoch_loss = running_loss / len(train_dataloader)\n",
        "    return epoch_loss\n",
        "\n",
        "def evaluate(model, test_dataloader, criterion, device):\n",
        "    model.eval()\n",
        "    running_loss = 0.0\n",
        "    with torch.no_grad():\n",
        "        for images, masks in test_dataloader:\n",
        "            images, masks = images.to(device), masks.to(device)\n",
        "            outputs = model(images)\n",
        "            loss = criterion(outputs, masks)\n",
        "            running_loss += loss.item()\n",
        "            visualize_segmentation(images.cpu(), masks.cpu(), outputs.cpu())\n",
        "\n",
        "    epoch_loss = running_loss / len(test_dataloader)\n",
        "    return epoch_loss\n",
        "\n",
        "def visualize_segmentation(images, masks, outputs):\n",
        "    fig, axs = plt.subplots(len(images), 3, figsize=(15, 5 * len(images)))\n",
        "    if len(images) == 1:\n",
        "        axs = [axs]\n",
        "    for i in range(len(images)):\n",
        "        axs[i][0].imshow(images[i].permute(1, 2, 0))\n",
        "        axs[i][0].set_title('Original Image')\n",
        "        axs[i][1].imshow(masks[i].squeeze(), cmap='gray')\n",
        "        axs[i][1].set_title('Ground Truth')\n",
        "        axs[i][2].imshow(torch.sigmoid(outputs[i]).squeeze(), cmap='gray')\n",
        "        axs[i][2].set_title('Predicted Mask')\n",
        "    plt.show()\n",
        "\n",
        "device = torch.device('cuda' if torch.cuda.is_available() else 'cpu')\n",
        "model.to(device)\n",
        "\n",
        "num_epochs = 10\n",
        "for epoch in range(num_epochs):\n",
        "    train_loss = train(model, train_dataloader, criterion, optimizer, device)\n",
        "    val_loss = evaluate(model, test_dataloader, criterion, device)\n",
        "\n",
        "    print(f'Epoch {epoch+1}/{num_epochs}, Train Loss: {train_loss:.4f}, Val Loss: {val_loss:.4f}')"
      ],
      "metadata": {
        "id": "5tQSMzAkUD6I"
      },
      "execution_count": null,
      "outputs": []
    }
  ]
}